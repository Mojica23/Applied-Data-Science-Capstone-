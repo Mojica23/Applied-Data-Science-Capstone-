{
 "cells": [
  {
   "cell_type": "markdown",
   "metadata": {},
   "source": [
    "# Module 2 Part 1.1 EDA with SQL"
   ]
  },
  {
   "cell_type": "code",
   "execution_count": 13,
   "metadata": {},
   "outputs": [],
   "source": [
    "import pandas as pd\n",
    "import sqlite3\n",
    "from prettytable import PrettyTable\n",
    "import csv\n",
    "import numpy as np"
   ]
  },
  {
   "cell_type": "markdown",
   "metadata": {},
   "source": [
    "### Connect to the database\n",
    "#### Let us first load the SQL extension and establish a connection with the database"
   ]
  },
  {
   "cell_type": "code",
   "execution_count": 14,
   "metadata": {},
   "outputs": [
    {
     "data": {
      "text/plain": [
       "<sqlite3.Cursor at 0x124c69640>"
      ]
     },
     "execution_count": 14,
     "metadata": {},
     "output_type": "execute_result"
    }
   ],
   "source": [
    "con = sqlite3.connect('my_data1.db')\n",
    "cur = con.cursor()\n",
    "\n",
    "# Drop the table if it exists BEFORE importing the CSV\n",
    "drop_table = '''DROP TABLE IF EXISTS SPACEXTBL;'''\n",
    "cur.execute(drop_table)\n",
    "\n",
    "# Load data from CSV\n",
    "file = '/Users/stalinjaquez/Desktop/VSCode/IBM Data Certificate/Course11_Applied_Data_Science_Capstone/Spacex.csv'\n",
    "df = pd.read_csv(file)\n",
    "\n",
    "# Write data to the table\n",
    "df.to_sql(\"SPACEXTBL\", con, if_exists='replace', index=False, method='multi')\n",
    "\n",
    "# Create the new table filtering non-null dates\n",
    "table = '''SELECT * FROM SPACEXTBL WHERE Date IS NOT NULL;'''\n",
    "cur.execute(table)"
   ]
  },
  {
   "cell_type": "markdown",
   "metadata": {},
   "source": [
    "#### Columns # \n",
    "- 'Date' \n",
    "- 'Time (UTC)'\n",
    "- 'Booster_Version'\n",
    "- 'Launch_Site'\n",
    "- 'Payload' \n",
    "- 'PAYLOAD_MASS__KG_'\n",
    "- 'Orbit'\n",
    "- 'Customer'\n",
    "- 'Mission_Outcome'\n",
    "- 'Landing_Outcome'"
   ]
  },
  {
   "cell_type": "markdown",
   "metadata": {},
   "source": [
    "#### Task 1: Display the names of the unique launch sites in the space mission."
   ]
  },
  {
   "cell_type": "code",
   "execution_count": 15,
   "metadata": {},
   "outputs": [
    {
     "name": "stdout",
     "output_type": "stream",
     "text": [
      "+--------------+\n",
      "| Launch_Site  |\n",
      "+--------------+\n",
      "| CCAFS LC-40  |\n",
      "| VAFB SLC-4E  |\n",
      "|  KSC LC-39A  |\n",
      "| CCAFS SLC-40 |\n",
      "+--------------+\n"
     ]
    }
   ],
   "source": [
    "task_1 = '''SELECT DISTINCT Launch_Site FROM SPACEXTBL'''\n",
    "cur.execute(task_1)\n",
    "results = cur.fetchall()\n",
    "columns =[]\n",
    "for column in cur.description:\n",
    "    columns.append(column[0])\n",
    "\n",
    "table = PrettyTable(columns)\n",
    "for row in results:\n",
    "    table.add_row(row)\n",
    "\n",
    "print(table)"
   ]
  },
  {
   "cell_type": "markdown",
   "metadata": {},
   "source": [
    "#### Task 2: Display 5 records where launch sites begin with the string 'CCA'."
   ]
  },
  {
   "cell_type": "code",
   "execution_count": 21,
   "metadata": {},
   "outputs": [
    {
     "name": "stdout",
     "output_type": "stream",
     "text": [
      "+------------+------------+-----------------+-------------+---------------------------------------------------------------+-------------------+-----------+-----------------+-----------------+---------------------+\n",
      "|    Date    | Time (UTC) | Booster_Version | Launch_Site |                            Payload                            | PAYLOAD_MASS__KG_ |   Orbit   |     Customer    | Mission_Outcome |   Landing_Outcome   |\n",
      "+------------+------------+-----------------+-------------+---------------------------------------------------------------+-------------------+-----------+-----------------+-----------------+---------------------+\n",
      "| 2010-06-04 |  18:45:00  |  F9 v1.0  B0003 | CCAFS LC-40 |              Dragon Spacecraft Qualification Unit             |         0         |    LEO    |      SpaceX     |     Success     | Failure (parachute) |\n",
      "| 2010-12-08 |  15:43:00  |  F9 v1.0  B0004 | CCAFS LC-40 | Dragon demo flight C1, two CubeSats, barrel of Brouere cheese |         0         | LEO (ISS) | NASA (COTS) NRO |     Success     | Failure (parachute) |\n",
      "| 2012-05-22 |  7:44:00   |  F9 v1.0  B0005 | CCAFS LC-40 |                     Dragon demo flight C2                     |        525        | LEO (ISS) |   NASA (COTS)   |     Success     |      No attempt     |\n",
      "| 2012-10-08 |  0:35:00   |  F9 v1.0  B0006 | CCAFS LC-40 |                          SpaceX CRS-1                         |        500        | LEO (ISS) |    NASA (CRS)   |     Success     |      No attempt     |\n",
      "| 2013-03-01 |  15:10:00  |  F9 v1.0  B0007 | CCAFS LC-40 |                          SpaceX CRS-2                         |        677        | LEO (ISS) |    NASA (CRS)   |     Success     |      No attempt     |\n",
      "+------------+------------+-----------------+-------------+---------------------------------------------------------------+-------------------+-----------+-----------------+-----------------+---------------------+\n"
     ]
    }
   ],
   "source": [
    "task_2 = '''SELECT * \n",
    "FROM SPACEXTBL \n",
    "WHERE Launch_Site LIKE 'CCA%' LIMIT 5;'''\n",
    "cur.execute(task_2)\n",
    "results = cur.fetchall()\n",
    "\n",
    "columns = []\n",
    "table = []\n",
    "for column in cur.description:\n",
    "    columns.append(column[0])\n",
    "\n",
    "table = PrettyTable(columns)\n",
    "for row in results:\n",
    "    table.add_row(row)\n",
    "\n",
    "print(table)"
   ]
  },
  {
   "cell_type": "markdown",
   "metadata": {},
   "source": [
    "#### Task 3: Display the total payload mass carried by boosters launched by NASA (CRS)."
   ]
  },
  {
   "cell_type": "code",
   "execution_count": 23,
   "metadata": {},
   "outputs": [
    {
     "name": "stdout",
     "output_type": "stream",
     "text": [
      "+------------+---------------------+\n",
      "|  Customer  | SUM_PAYLOAD_MASS_KG |\n",
      "+------------+---------------------+\n",
      "| NASA (CRS) |        45596        |\n",
      "+------------+---------------------+\n"
     ]
    }
   ],
   "source": [
    "task_3 = '''SELECT CUSTOMER, SUM(PAYLOAD_MASS__KG_) AS SUM_PAYLOAD_MASS_KG \n",
    "FROM SPACEXTBL \n",
    "WHERE CUSTOMER = 'NASA (CRS)';'''\n",
    "cur.execute(task_3)\n",
    "results = cur.fetchall()\n",
    "\n",
    "columns = []\n",
    "table = []\n",
    "for column in cur.description:\n",
    "    columns.append(column[0])\n",
    "\n",
    "table = PrettyTable(columns)\n",
    "for row in results:\n",
    "    table.add_row(row)\n",
    "print(table)"
   ]
  },
  {
   "cell_type": "markdown",
   "metadata": {},
   "source": [
    "#### Task 4: Display average payload mass carried by booster version F9 v1.1. "
   ]
  },
  {
   "cell_type": "code",
   "execution_count": 24,
   "metadata": {},
   "outputs": [
    {
     "name": "stdout",
     "output_type": "stream",
     "text": [
      "+-----------------+----------------------+\n",
      "| Booster_Version | AVG_PAYLOAD_MASS__KG |\n",
      "+-----------------+----------------------+\n",
      "|     F9 v1.1     |        2928.4        |\n",
      "+-----------------+----------------------+\n"
     ]
    }
   ],
   "source": [
    "task_4 = '''SELECT Booster_Version, AVG(PAYLOAD_MASS__KG_) AS AVG_PAYLOAD_MASS__KG \n",
    "FROM SPACEXTBL \n",
    "WHERE Booster_Version = 'F9 v1.1' '''\n",
    "cur.execute(task_4)\n",
    "results = cur.fetchall()\n",
    "\n",
    "columns = []\n",
    "table = []\n",
    "for column in cur.description:\n",
    "    columns.append(column[0])\n",
    "\n",
    "table = PrettyTable(columns)\n",
    "for row in results:\n",
    "    table.add_row(row)\n",
    "\n",
    "print(table)"
   ]
  },
  {
   "cell_type": "markdown",
   "metadata": {},
   "source": [
    "#### Task 5: List the date when the first succesful landing outcome in ground pad was acheived."
   ]
  },
  {
   "cell_type": "code",
   "execution_count": 26,
   "metadata": {},
   "outputs": [
    {
     "name": "stdout",
     "output_type": "stream",
     "text": [
      "+----------------------+-------------------------------+\n",
      "|   Landing_Outcome    | First_Ground_Pad_Landing_Date |\n",
      "+----------------------+-------------------------------+\n",
      "| Success (ground pad) |           2015-12-22          |\n",
      "+----------------------+-------------------------------+\n"
     ]
    }
   ],
   "source": [
    "task_5 = '''SELECT Landing_Outcome, MIN(DATE) AS First_Ground_Pad_Landing_Date \n",
    "FROM SPACEXTBL \n",
    "WHERE Landing_Outcome = 'Success (ground pad)' '''\n",
    "cur.execute(task_5)\n",
    "results = cur.fetchall()\n",
    "\n",
    "columns = []\n",
    "table = []\n",
    "for column in cur.description:\n",
    "    columns.append(column[0])\n",
    "\n",
    "table = PrettyTable(columns)\n",
    "for row in results:\n",
    "    table.add_row(row)\n",
    "\n",
    "print(table)"
   ]
  },
  {
   "cell_type": "markdown",
   "metadata": {},
   "source": [
    "#### Task 6: List the names of the boosters which have success in drone ship and have payload mass greater than 4000 but less than 6000."
   ]
  },
  {
   "cell_type": "code",
   "execution_count": 27,
   "metadata": {},
   "outputs": [
    {
     "name": "stdout",
     "output_type": "stream",
     "text": [
      "+-----------------+-------------------+----------------------+\n",
      "| Booster_Version | PAYLOAD_MASS__KG_ |   Landing_Outcome    |\n",
      "+-----------------+-------------------+----------------------+\n",
      "|   F9 FT B1022   |        4696       | Success (drone ship) |\n",
      "|   F9 FT B1026   |        4600       | Success (drone ship) |\n",
      "|  F9 FT  B1021.2 |        5300       | Success (drone ship) |\n",
      "|  F9 FT  B1031.2 |        5200       | Success (drone ship) |\n",
      "+-----------------+-------------------+----------------------+\n"
     ]
    }
   ],
   "source": [
    "task_6 = '''SELECT DISTINCT(Booster_Version),PAYLOAD_MASS__KG_ ,Landing_Outcome \n",
    "FROM SPACEXTBL WHERE Landing_Outcome = 'Success (drone ship)' \n",
    "AND PAYLOAD_MASS__KG_ > 4000 \n",
    "AND PAYLOAD_MASS__KG_ < 6000 '''\n",
    "cur.execute(task_6)\n",
    "results = cur.fetchall()\n",
    "\n",
    "columns = []\n",
    "table = []\n",
    "for column in cur.description:\n",
    "    columns.append(column[0])\n",
    "\n",
    "table = PrettyTable(columns)\n",
    "for row in results:\n",
    "    table.add_row(row)\n",
    "\n",
    "print(table)"
   ]
  },
  {
   "cell_type": "markdown",
   "metadata": {},
   "source": [
    "#### Task 7: List the total number of successful and failure mission outcomes. "
   ]
  },
  {
   "cell_type": "code",
   "execution_count": 28,
   "metadata": {},
   "outputs": [
    {
     "name": "stdout",
     "output_type": "stream",
     "text": [
      "+----------------------------------+-------+\n",
      "|         Mission_Outcome          | Count |\n",
      "+----------------------------------+-------+\n",
      "|       Failure (in flight)        |   1   |\n",
      "|             Success              |   98  |\n",
      "|             Success              |   1   |\n",
      "| Success (payload status unclear) |   1   |\n",
      "+----------------------------------+-------+\n"
     ]
    }
   ],
   "source": [
    "task_7 = '''SELECT Mission_Outcome, COUNT(*) AS Count\n",
    "FROM SPACEXTBL\n",
    "GROUP BY Mission_Outcome;\n",
    "'''\n",
    "cur.execute(task_7)\n",
    "results = cur.fetchall()\n",
    "\n",
    "columns = []\n",
    "table = []\n",
    "for column in cur.description:\n",
    "    columns.append(column[0])\n",
    "\n",
    "table = PrettyTable(columns)\n",
    "for row in results:\n",
    "    table.add_row(row)\n",
    "\n",
    "print(table)"
   ]
  },
  {
   "cell_type": "markdown",
   "metadata": {},
   "source": [
    "#### Task 8: List the names of the booster_versions which have carried the maximum payload mass. Use a subquery."
   ]
  },
  {
   "cell_type": "code",
   "execution_count": 29,
   "metadata": {},
   "outputs": [
    {
     "name": "stdout",
     "output_type": "stream",
     "text": [
      "+-----------------+-------------------+\n",
      "| Booster_Version | PAYLOAD_MASS__KG_ |\n",
      "+-----------------+-------------------+\n",
      "|  F9 B5 B1048.4  |       15600       |\n",
      "|  F9 B5 B1049.4  |       15600       |\n",
      "|  F9 B5 B1051.3  |       15600       |\n",
      "|  F9 B5 B1056.4  |       15600       |\n",
      "|  F9 B5 B1048.5  |       15600       |\n",
      "|  F9 B5 B1051.4  |       15600       |\n",
      "|  F9 B5 B1049.5  |       15600       |\n",
      "|  F9 B5 B1060.2  |       15600       |\n",
      "|  F9 B5 B1058.3  |       15600       |\n",
      "|  F9 B5 B1051.6  |       15600       |\n",
      "|  F9 B5 B1060.3  |       15600       |\n",
      "|  F9 B5 B1049.7  |       15600       |\n",
      "+-----------------+-------------------+\n"
     ]
    }
   ],
   "source": [
    "task_8 = '''SELECT Booster_Version, PAYLOAD_MASS__KG_\n",
    "FROM SPACEXTBL\n",
    "WHERE PAYLOAD_MASS__KG_ = (SELECT MAX(PAYLOAD_MASS__KG_) FROM SPACEXTBL);\n",
    "'''\n",
    "cur.execute(task_8)\n",
    "results = cur.fetchall()\n",
    "\n",
    "columns = []\n",
    "table = []\n",
    "for column in cur.description:\n",
    "    columns.append(column[0])\n",
    "\n",
    "table = PrettyTable(columns)\n",
    "for row in results:\n",
    "    table.add_row(row)\n",
    "\n",
    "print(table)"
   ]
  },
  {
   "cell_type": "markdown",
   "metadata": {},
   "source": [
    "#### Task 9: List the records which will display the month names, failure landing_outcomes in drone ship ,booster versions, launch_site for the months in year 2015."
   ]
  },
  {
   "cell_type": "code",
   "execution_count": 30,
   "metadata": {},
   "outputs": [
    {
     "name": "stdout",
     "output_type": "stream",
     "text": [
      "+-------+------+-----------------+-------------+----------------------+\n",
      "| Month | Year | Booster_Version | Launch_Site |   Landing_Outcome    |\n",
      "+-------+------+-----------------+-------------+----------------------+\n",
      "|   01  | 2015 |  F9 v1.1 B1012  | CCAFS LC-40 | Failure (drone ship) |\n",
      "|   04  | 2015 |  F9 v1.1 B1015  | CCAFS LC-40 | Failure (drone ship) |\n",
      "+-------+------+-----------------+-------------+----------------------+\n"
     ]
    }
   ],
   "source": [
    "task_9 = '''SELECT strftime('%m', Date) AS Month, strftime('%Y', Date) AS Year, Booster_Version, Launch_Site, Landing_Outcome\n",
    "FROM SPACEXTBL\n",
    "WHERE Landing_Outcome LIKE 'Failure (drone ship)'\n",
    "AND Year = '2015';'''\n",
    "\n",
    "cur.execute(task_9)\n",
    "results = cur.fetchall()\n",
    "\n",
    "columns = []\n",
    "table = []\n",
    "for column in cur.description:\n",
    "    columns.append(column[0])\n",
    "\n",
    "table = PrettyTable(columns)\n",
    "for row in results:\n",
    "    table.add_row(row)\n",
    "\n",
    "print(table)"
   ]
  },
  {
   "cell_type": "markdown",
   "metadata": {},
   "source": [
    "#### Task 10: Rank the count of landing outcomes (such as Failure (drone ship) or Success (ground pad)) between the date 2010-06-04 and 2017-03-20, in descending order. "
   ]
  },
  {
   "cell_type": "code",
   "execution_count": 31,
   "metadata": {},
   "outputs": [
    {
     "name": "stdout",
     "output_type": "stream",
     "text": [
      "+------------------------+---------------+\n",
      "|    Landing_Outcome     | Outcome_Count |\n",
      "+------------------------+---------------+\n",
      "|       No attempt       |       10      |\n",
      "|  Success (drone ship)  |       5       |\n",
      "|  Failure (drone ship)  |       5       |\n",
      "|  Success (ground pad)  |       3       |\n",
      "|   Controlled (ocean)   |       3       |\n",
      "|  Uncontrolled (ocean)  |       2       |\n",
      "|  Failure (parachute)   |       2       |\n",
      "| Precluded (drone ship) |       1       |\n",
      "+------------------------+---------------+\n"
     ]
    }
   ],
   "source": [
    "task_10 = '''SELECT Landing_Outcome, COUNT(*) AS Outcome_Count\n",
    "             FROM SPACEXTBL\n",
    "             WHERE Date BETWEEN '2010-06-04' AND '2017-03-20'\n",
    "             GROUP BY Landing_Outcome\n",
    "             ORDER BY Outcome_Count DESC;'''\n",
    "cur.execute(task_10)\n",
    "results = cur.fetchall()\n",
    "\n",
    "columns = []\n",
    "table = []\n",
    "for column in cur.description:\n",
    "    columns.append(column[0])\n",
    "\n",
    "table = PrettyTable(columns)\n",
    "for row in results:\n",
    "    table.add_row(row)\n",
    "\n",
    "print(table)\n",
    "\n",
    "\n"
   ]
  }
 ],
 "metadata": {
  "kernelspec": {
   "display_name": "MOB",
   "language": "python",
   "name": "python3"
  },
  "language_info": {
   "codemirror_mode": {
    "name": "ipython",
    "version": 3
   },
   "file_extension": ".py",
   "mimetype": "text/x-python",
   "name": "python",
   "nbconvert_exporter": "python",
   "pygments_lexer": "ipython3",
   "version": "3.12.2"
  }
 },
 "nbformat": 4,
 "nbformat_minor": 2
}
