{
 "cells": [
  {
   "cell_type": "markdown",
   "metadata": {},
   "source": [
    "## Module 1 Part 1.1 -- Data Collection with Web Scrapping"
   ]
  },
  {
   "cell_type": "code",
   "execution_count": 2,
   "metadata": {},
   "outputs": [],
   "source": [
    "import sys\n",
    "import requests\n",
    "from bs4 import BeautifulSoup\n",
    "import re\n",
    "import unicodedata\n",
    "import pandas as pd\n",
    "pd.set_option('display.max_columns', None)\n",
    "pd.set_option('display.max_rows', None)\n",
    "pd.set_option('display.expand_frame_repr',False)"
   ]
  },
  {
   "cell_type": "markdown",
   "metadata": {},
   "source": [
    "## Space X Falcon 9 First Stage Landing Prediction\n",
    "### Web scraping Falcon 9 and Falcon Heavy Launches Records from Wikipedia\n",
    "\n",
    "#### Objectives\n",
    "- Web scrap Falcon 9 launch records with BeautifulSoup\n",
    "- Extract a Falcon 9 launch records HTML table from Wikipedia\n",
    "- Parse the table and convert it into a Pandas data frame"
   ]
  },
  {
   "cell_type": "markdown",
   "metadata": {},
   "source": [
    "#### To keep the lab tasks consistent, you will be asked to scrape the data from a snapshot of the List of Falcon 9 and Falcon Heavy launches Wikipage updated on 9th June 2021."
   ]
  },
  {
   "cell_type": "code",
   "execution_count": 3,
   "metadata": {},
   "outputs": [],
   "source": [
    "url = 'https://en.wikipedia.org/wiki/List_of_Falcon_9_and_Falcon_Heavy_launches'"
   ]
  },
  {
   "cell_type": "markdown",
   "metadata": {},
   "source": [
    "## Next, request the HTML page from the above URL and get a response object.\n",
    "\n",
    "### TASK 1: Request the Falcon9 Launch Wiki page from its URL.\n",
    "### First, let's perform an HTTP GET method to request the Falcon9 Launch HTML page, as an HTTP response."
   ]
  },
  {
   "cell_type": "code",
   "execution_count": 4,
   "metadata": {},
   "outputs": [],
   "source": [
    "# Send an HTTP Get request to the web page \n",
    "response = requests.get(url)\n",
    "\n",
    "# Store the HTML content in a variable.\n",
    "html_content = response.text\n",
    "\n",
    "# Create a BeautifulSoup Object to parse the HTML \n",
    "soup = BeautifulSoup(html_content,'html.parser')\n",
    "\n",
    "# Print the page title to verify if the BeautifulSoup object was created properly.\n",
    "soup_title = soup.title # Output: <title>List of Falcon 9 and Falcon Heavy launches - Wikipedia</title>"
   ]
  },
  {
   "cell_type": "markdown",
   "metadata": {},
   "source": [
    "## TASK 2: Extract all column/variable names from the HTML table header\n",
    "### Next, we want to collect all relevant column names from the HTML table header."
   ]
  },
  {
   "cell_type": "code",
   "execution_count": 5,
   "metadata": {},
   "outputs": [],
   "source": [
    "# Find all tables on the wiki page\n",
    "html_tables = soup.find_all('table', class_=[\"wikitable\", \"plainrowheaders\", \"collapsible\"])\n",
    "\n",
    "# The third table (index 2) contains the actual launch records\n",
    "first_launch_table = html_tables[2]"
   ]
  },
  {
   "cell_type": "code",
   "execution_count": 6,
   "metadata": {},
   "outputs": [],
   "source": [
    "# Define function to extract column names from <th> elements\n",
    "def extract_column_from_header(row):\n",
    "    \"\"\"\n",
    "   This function returns the landing status from the HTML table cell \n",
    "    Input: the  element of a table data cell extracts extra row\n",
    "    \"\"\"\n",
    "    if row.br:\n",
    "        row.br.extract() \n",
    "    if row.a:\n",
    "        row.a.extract() \n",
    "    if row.sup:\n",
    "        row.sup.extract() \n",
    "\n",
    "    column_name = ' '.join(row.contents).strip()\n",
    "    return column_name if column_name and not column_name.isdigit() else None"
   ]
  },
  {
   "cell_type": "code",
   "execution_count": 7,
   "metadata": {},
   "outputs": [
    {
     "data": {
      "text/plain": [
       "['Flight No.',\n",
       " 'Date and time ( )',\n",
       " 'Launch site',\n",
       " 'Payload',\n",
       " 'Payload mass',\n",
       " 'Orbit',\n",
       " 'Customer',\n",
       " 'Launch outcome']"
      ]
     },
     "execution_count": 7,
     "metadata": {},
     "output_type": "execute_result"
    }
   ],
   "source": [
    "# Get headers\n",
    "column_names = [extract_column_from_header(th) for th in first_launch_table.find_all('th') if extract_column_from_header(th)]\n",
    "\n",
    "# Print extracted column names\n",
    "(column_names) # Output: ['Flight No.', 'Date and time ( )', 'Launch site', 'Payload', 'Payload mass', 'Orbit', 'Customer', 'Launch outcome']"
   ]
  },
  {
   "cell_type": "markdown",
   "metadata": {},
   "source": [
    "## TASK 3: Create a data frame by parsing the launch HTML tables.\n",
    "### We will create an empty dictionary with keys from the extracted column names in the previous task. Later, this dictionary will be converted into a Pandas dataframe. "
   ]
  },
  {
   "cell_type": "code",
   "execution_count": 8,
   "metadata": {},
   "outputs": [],
   "source": [
    "launch_dict = {col: [] for col in column_names}\n",
    "\n",
    "# Remove an irrelvant column\n",
    "del launch_dict['Date and time ( )']"
   ]
  },
  {
   "cell_type": "code",
   "execution_count": 9,
   "metadata": {},
   "outputs": [],
   "source": [
    "\n",
    "\n",
    "# Let's initial the launch_dict with each value to be an empty list\n",
    "launch_dict['Flight No.'] = []\n",
    "launch_dict['Launch site'] = []\n",
    "launch_dict['Payload'] = []\n",
    "launch_dict['Payload mass'] = []\n",
    "launch_dict['Orbit'] = []\n",
    "launch_dict['Customer'] = []\n",
    "launch_dict['Launch outcome'] = []\n",
    "# Added some new columns\n",
    "launch_dict['Version Booster']=[]\n",
    "launch_dict['Booster landing']=[]\n",
    "launch_dict['Date']=[]\n",
    "launch_dict['Time']=[]"
   ]
  },
  {
   "cell_type": "code",
   "execution_count": 10,
   "metadata": {},
   "outputs": [],
   "source": [
    "# Other functions \n",
    "def date_time(table_cells):\n",
    "    \"\"\"\n",
    "    This function returns the data and time from the HTML  table cell\n",
    "    Input: the  element of a table data cell extracts extra row\n",
    "    \"\"\"\n",
    "    return [data_time.strip() for data_time in table_cells.stripped_strings][:2]\n",
    "\n",
    "def booster_version(table_cells):\n",
    "    \"\"\"\n",
    "    This function returns the booster version from the HTML  table cell \n",
    "    Input: the  element of a table data cell extracts extra row\n",
    "    \"\"\"\n",
    "    return ''.join([booster_version for i,booster_version in enumerate( table_cells.stripped_strings) if i%2==0][:-1])\n",
    "    \n",
    "\n",
    "def landing_status(table_cells):\n",
    "    \"\"\"\n",
    "    This function returns the landing status from the HTML table cell \n",
    "    Input: the  element of a table data cell extracts extra row\n",
    "    \"\"\"\n",
    "    return next(iter(table_cells.stripped_strings), \"Unknown\")\n",
    "    \n",
    "def get_mass(table_cells):\n",
    "    mass = unicodedata.normalize(\"NFKD\", table_cells.get_text(strip=True))\n",
    "    return mass[:mass.find(\"kg\") + 2] if \"kg\" in mass else \"0 kg\""
   ]
  },
  {
   "cell_type": "markdown",
   "metadata": {},
   "source": [
    "#### To simplify the parsing process, we have provided an incomplete code snippet below to help you to fill up the launch_dict. Please complete the following code snippet with TODOs or you can choose to write your own logic to parse all launch tables."
   ]
  },
  {
   "cell_type": "markdown",
   "metadata": {},
   "source": [
    "#### Extract and parse all launch tables"
   ]
  },
  {
   "cell_type": "code",
   "execution_count": 11,
   "metadata": {},
   "outputs": [],
   "source": [
    "\n",
    "extracted_row = 0\n",
    "\n",
    "for table in html_tables:\n",
    "    for rows in table.find_all(\"tr\"):\n",
    "        # Check if the first table heading is a number corresponding to a launch number\n",
    "        if rows.th and rows.th.string and rows.th.string.strip().isdigit():\n",
    "            flight_number = rows.th.string.strip()\n",
    "            flag = True\n",
    "        else:\n",
    "            flag = False\n",
    "\n",
    "        row = rows.find_all('td')\n",
    "\n",
    "        if flag and len(row) >= 9:\n",
    "            extracted_row += 1\n",
    "            datatimelist = date_time(row[0])\n",
    "            date = datatimelist[0].strip(',') if len(datatimelist) > 0 else \"Unknown\"\n",
    "            time = datatimelist[1] if len(datatimelist) > 1 else \"Unknown\"\n",
    "\n",
    "            bv = booster_version(row[1]) if booster_version(row[1]) else row[1].get_text(strip=True)\n",
    "            launch_site = row[2].get_text(strip=True) if row[2] else \"Unknown\"\n",
    "            payload = row[3].get_text(strip=True) if row[3] else \"Unknown\"\n",
    "            payload_mass = get_mass(row[4]) if row[4] else \"Unknown\"\n",
    "            orbit = row[5].get_text(strip=True) if row[5] else \"Unknown\"\n",
    "            customer = row[6].get_text(strip=True) if row[6] else \"Unknown\"\n",
    "            launch_outcome = landing_status(row[7]) if row[7] else \"Unknown\"\n",
    "            booster_landing = landing_status(row[8]) if row[8] else \"Unknown\"\n",
    "\n",
    "            launch_dict['Flight No.'].append(flight_number)\n",
    "            launch_dict['Date'].append(date)\n",
    "            launch_dict['Time'].append(time)\n",
    "            launch_dict['Version Booster'].append(bv)\n",
    "            launch_dict['Launch site'].append(launch_site)\n",
    "            launch_dict['Payload'].append(payload)\n",
    "            launch_dict['Payload mass'].append(payload_mass)\n",
    "            launch_dict['Orbit'].append(orbit)\n",
    "            launch_dict['Customer'].append(customer)\n",
    "            launch_dict['Launch outcome'].append(launch_outcome)\n",
    "            launch_dict['Booster landing'].append(booster_landing)"
   ]
  },
  {
   "cell_type": "markdown",
   "metadata": {},
   "source": [
    "#### Save to Dataframe"
   ]
  },
  {
   "cell_type": "code",
   "execution_count": 12,
   "metadata": {},
   "outputs": [],
   "source": [
    "df= pd.DataFrame({ key:pd.Series(value) for key, value in launch_dict.items() })"
   ]
  },
  {
   "cell_type": "markdown",
   "metadata": {},
   "source": [
    "#### Resetting the flight number column "
   ]
  },
  {
   "cell_type": "code",
   "execution_count": 13,
   "metadata": {},
   "outputs": [],
   "source": [
    "df.loc[:,'Flight No.'] = list(range(1,df.shape[0]+1))"
   ]
  },
  {
   "cell_type": "markdown",
   "metadata": {},
   "source": [
    "#### Save datafram to csv"
   ]
  },
  {
   "cell_type": "code",
   "execution_count": 14,
   "metadata": {},
   "outputs": [
    {
     "name": "stdout",
     "output_type": "stream",
     "text": [
      "    Flight No.            Launch site                                            Payload Payload mass                  Orbit                               Customer Launch outcome Version Booster    Booster landing                Date   Time\n",
      "0            1  Cape Canaveral,SLC‑40      Transporter-6(115 payload smallsat rideshare)         0 kg                    SSO                                Various        Success              F9          Success (      3 January 2023  14:56\n",
      "1            2  Cape Canaveral,SLC‑40                           OneWeb 16(40 satellites)     6,000 kg               PolarLEO                                 OneWeb        Success              F9          Success (     10 January 2023  04:50\n",
      "2            3  Cape Canaveral,SLC‑40                              USA-343(GPS-III SV06)     4,352 kg                    MEO                                   USSF        Success              F9          Success (     18 January 2023  12:24\n",
      "3            4      Vandenberg,SLC‑4E                   Starlink:Group 2-4(51satellites)    15,000 kg                    LEO                                 SpaceX        Success              F9          Success (     19 January 2023  15:43\n",
      "4            5  Cape Canaveral,SLC‑40                   Starlink:Group 5-2(56satellites)   ~17,400 kg                    LEO                                 SpaceX        Success              F9          Success (     26 January 2023  09:32\n",
      "5            6      Vandenberg,SLC‑4E                   Starlink:Group 2-6(49satellites)   ~15,200 kg                    LEO                                 SpaceX        Success              F9          Success (     31 January 2023  16:15\n",
      "6            7         Kennedy,LC‑39A                   Starlink:Group 5-3(53satellites)    16,500 kg                    LEO                                 SpaceX        Success              F9          Success (     2 February 2023  07:58\n",
      "7            8  Cape Canaveral,SLC‑40                                     Amazonas Nexus     4,146 kg                    GTO                               Hispasat        Success              F9          Success (     7 February 2023  01:32\n",
      "8            9  Cape Canaveral,SLC‑40                   Starlink:Group 5-4(55satellites)    17,100 kg                    LEO                                 SpaceX        Success              F9          Success (    12 February 2023  05:10\n",
      "9           10      Vandenberg,SLC‑4E                   Starlink:Group 2-5(51satellites)    15,900 kg                    LEO                                 SpaceX        Success              F9          Success (    17 February 2023  19:12\n",
      "10          11  Cape Canaveral,SLC‑40                                      Inmarsat-6 F2     5,470 kg                    GTO                               Inmarsat        Success              F9          Success (    18 February 2023  03:59\n",
      "11          12  Cape Canaveral,SLC‑40                   Starlink:Group 6-1(21satellites)   ~15,300 kg                    LEO                                 SpaceX        Success              F9          Success (    27 February 2023  23:13\n",
      "12          13         Kennedy,LC‑39A                Crew-6(Crew Dragon C206.4Endeavour)   ~13,000 kg               LEO(ISS)                              NASA(CTS)        Success              F9          Success (        2 March 2023  05:34\n",
      "13          14      Vandenberg,SLC‑4E                   Starlink:Group 2-7(51satellites)    15,900 kg                    LEO                                 SpaceX        Success              F9          Success (        3 March 2023  18:38\n",
      "14          15  Cape Canaveral,SLC‑40                           OneWeb 17(40 satellites)     6,000 kg                    LEO                                 OneWeb        Success              F9          Success (        9 March 2023  19:13\n",
      "15          16         Kennedy,LC‑39A                       SpaceX CRS-27(Dragon C209.3)     2,852 kg               LEO(ISS)                              NASA(CRS)        Success              F9          Success (       15 March 2023  00:30\n",
      "16          17      Vandenberg,SLC‑4E                   Starlink:Group 2-8(52satellites)   ~16,200 kg                    LEO                                 SpaceX        Success              F9          Success (       17 March 2023  19:26\n",
      "17          18  Cape Canaveral,SLC‑40                                      SES-18&SES-19    ~7,000 kg                    GTO                                    SES        Success              F9          Success (       17 March 2023  23:38\n",
      "18          19  Cape Canaveral,SLC‑40                   Starlink:Group 5-5(56satellites)   ~17,400 kg                    LEO                                 SpaceX        Success              F9          Success (       24 March 2023  15:43\n",
      "19          20  Cape Canaveral,SLC‑40                  Starlink:Group 5-10(56satellites)   ~17,400 kg                    LEO                                 SpaceX        Success              F9          Success (       29 March 2023  20:01\n",
      "20          21      Vandenberg,SLC‑4E                      SDA Tranche 0A(10 satellites)         0 kg                    LEO                                    SDA        Success              F9          Success (        2 April 2023  14:29\n",
      "21          22  Cape Canaveral,SLC‑40                                       Intelsat 40e    ~5,588 kg                    GTO                               Intelsat        Success              F9          Success (  7 April 2023 04:30      [\n",
      "22          23      Vandenberg,SLC‑4E       Transporter-7(51 payload smallsat rideshare)         0 kg                    SSO                                Various        Success              F9          Success (       15 April 2023  06:47\n",
      "23          24  Cape Canaveral,SLC‑40                   Starlink:Group 6-2(21satellites)   ~15,300 kg                    LEO                                 SpaceX        Success              F9          Success (       19 April 2023  14:31\n",
      "24          25      Vandenberg,SLC‑4E                   Starlink:Group 3-5(46satellites)   ~14,100 kg                    SSO                                 SpaceX        Success              F9          Success (       27 April 2023  13:40\n",
      "25          26  Cape Canaveral,SLC‑40                                    O3b mPOWER3 & 4    ~4,100 kg                    MEO                                    SES        Success              F9          Success (       28 April 2023  22:12\n",
      "26          27  Cape Canaveral,SLC‑40                   Starlink:Group 5-6(56satellites)   ~17,400 kg                    LEO                                 SpaceX        Success              F9          Success (          4 May 2023  07:31\n",
      "27          28      Vandenberg,SLC‑4E                   Starlink:Group 2-9(51satellites)    15,900 kg                    LEO                                 SpaceX        Success       F9B1075.3          Success (         10 May 2023  20:09\n",
      "28          29  Cape Canaveral,SLC‑40                   Starlink:Group 5-9(56satellites)   ~17,400 kg                    LEO                                 SpaceX        Success              F9          Success (         14 May 2023  05:03\n",
      "29          30  Cape Canaveral,SLC‑40                   Starlink:Group 6-3(22satellites)   ~16,100 kg                    LEO                                 SpaceX        Success              F9          Success (         19 May 2023  06:19\n",
      "30          31      Vandenberg,SLC‑4E  Iridium-NEXT[111](5 satellites)OneWeb(15 Gen1 ...    ~6,600 kg               PolarLEO                         Iridium&OneWeb        Success              F9          Success (         20 May 2023  13:16\n",
      "31          32         Kennedy,LC‑39A                    Ax-2(Crew Dragon C212.2Freedom)   ~13,000 kg               LEO(ISS)                            Axiom Space        Success              F9          Success (         21 May 2023  21:37\n",
      "32          33  Cape Canaveral,SLC‑40                            ArabSat 7B(Badr-8)[120]    ~4,500 kg                    GTO                                Arabsat        Success              F9          Success (         27 May 2023  04:30\n",
      "33          34      Vandenberg,SLC‑4E                  Starlink:Group 2-10(52satellites)   ~16,400 kg                    LEO                                 SpaceX        Success              F9          Success (         31 May 2023  06:02\n",
      "34          35  Cape Canaveral,SLC‑40                   Starlink:Group 6-4(22satellites)   ~16,100 kg                    LEO                                 SpaceX        Success              F9          Success (         4 June 2023  12:20\n",
      "35          36         Kennedy,LC‑39A                       SpaceX CRS-28(Dragon C208.4)    ~3,304 kg               LEO(ISS)                              NASA(CRS)        Success              F9          Success (         5 June 2023  15:47\n",
      "36          37  Cape Canaveral,SLC‑40                  Starlink:Group 5-11(52satellites)   ~16,400 kg                    LEO                                 SpaceX        Success              F9          Success (        12 June 2023  07:10\n",
      "37          38      Vandenberg,SLC‑4E       Transporter-8(72 payload smallsat rideshare)         0 kg                    SSO                                Various        Success              F9          Success (        12 June 2023  21:35\n",
      "38          39  Cape Canaveral,SLC‑40                                        SATRIA[128]    ~4,580 kg                    GTO           PT Pasifik Satelit Nusantara        Success      F9B1067.12          Success (        18 June 2023  22:21\n",
      "39          40      Vandenberg,SLC‑4E                   Starlink:Group 5-7(47satellites)   ~14,500 kg                    LEO                                 SpaceX        Success       F9B1075.4          Success (        22 June 2023  07:19\n",
      "40          41  Cape Canaveral,SLC‑40                  Starlink:Group 5-12(56satellites)   ~17,400 kg                    LEO                                 SpaceX        Success              F9          Success (        23 June 2023  15:35\n",
      "41          42  Cape Canaveral,SLC‑40                                             Euclid    ~2,160 kg  Sun–Earth L2injection                                    ESA        Success              F9          Success (         1 July 2023  15:12\n",
      "42          43      Vandenberg,SLC‑4E                  Starlink:Group 5-13(48satellites)   ~14,900 kg                    LEO                                 SpaceX        Success      F9B1063.12          Success (         7 July 2023  19:29\n",
      "43          44  Cape Canaveral,SLC‑40                   Starlink:Group 6-5(22satellites)   ~16,100 kg                    LEO                                 SpaceX        Success              F9          Success (        10 July 2023  03:58\n",
      "44          45  Cape Canaveral,SLC‑40                  Starlink:Group 5-15(54satellites)   ~16,700 kg                    LEO                                 SpaceX        Success      F9B1060.16          Success (        16 July 2023  03:50\n",
      "45          46      Vandenberg,SLC‑4E                  Starlink:Group 6-15(15satellites)   ~12,000 kg                    LEO                                 SpaceX        Success              F9          Success (        20 July 2023  04:09\n",
      "46          47  Cape Canaveral,SLC‑40                   Starlink:Group 6-6(22satellites)   ~16,100 kg                    LEO                                 SpaceX        Success              F9          Success (        24 July 2023  00:50\n",
      "47          48  Cape Canaveral,SLC‑40                   Starlink:Group 6-7(22satellites)   ~16,100 kg                    LEO                                 SpaceX        Success              F9          Success (        28 July 2023  04:01\n",
      "48          49  Cape Canaveral,SLC‑40                                          Galaxy 37    ~5,063 kg                    GTO                               Intelsat        Success              F9          Success (       3 August 2023  05:00\n",
      "49          50  Cape Canaveral,SLC‑40                   Starlink:Group 6-8(22satellites)   ~16,100 kg                    LEO                                 SpaceX        Success              F9          Success (       7 August 2023  02:41\n",
      "50          51      Vandenberg,SLC‑4E                  Starlink:Group 6-20(15satellites)   ~12,000 kg                    LEO                                 SpaceX        Success              F9          Success (       8 August 2023  03:57\n",
      "51          52  Cape Canaveral,SLC‑40                   Starlink:Group 6-9(22satellites)   ~16,100 kg                    LEO                                 SpaceX        Success              F9          Success (      11 August 2023  05:17\n",
      "52          53  Cape Canaveral,SLC‑40                  Starlink:Group 6-10(22satellites)   ~16,100 kg                    LEO                                 SpaceX        Success              F9          Success (      17 August 2023  03:36\n",
      "53          54      Vandenberg,SLC‑4E                   Starlink:Group 7-1(21satellites)   ~15,300 kg                    LEO                                 SpaceX        Success              F9          Success (      22 August 2023  09:37\n",
      "54          55         Kennedy,LC‑39A           Crew-7[156](Crew Dragon C210.3Endurance)   ~13,000 kg               LEO(ISS)                              NASA(CTS)        Success       F9B1081.1          Success (      26 August 2023  07:27\n",
      "55          56  Cape Canaveral,SLC‑40                  Starlink:Group 6-11(22satellites)   ~16,100 kg                    LEO                                 SpaceX        Success              F9          Success (      27 August 2023  01:05\n",
      "56          57  Cape Canaveral,SLC‑40                  Starlink:Group 6-13(22satellites)   ~16,100 kg                    LEO                                 SpaceX        Success              F9          Success (    1 September 2023  02:21\n",
      "57          58      Vandenberg,SLC‑4E                       SDA Tranche 0B(13satellites)         0 kg                    LEO                                    SDA        Success              F9          Success (    2 September 2023      [\n",
      "58          59         Kennedy,LC‑39A                  Starlink:Group 6-12(22satellites)   ~15,300 kg                    LEO                                 SpaceX        Success              F9          Success (    4 September 2023  02:47\n",
      "59          60  Cape Canaveral,SLC‑40                  Starlink:Group 6-14(22satellites)   ~16,100 kg                    LEO                                 SpaceX        Success              F9          Success (    9 September 2023  03:12\n",
      "60          61      Vandenberg,SLC‑4E                   Starlink:Group 7-2(21satellites)   ~15,300 kg                    LEO                                 SpaceX        Success              F9          Success (   12 September 2023  06:57\n",
      "61          62  Cape Canaveral,SLC‑40                  Starlink:Group 6-16(22satellites)   ~16,100 kg                    LEO                                 SpaceX        Success              F9          Success (   16 September 2023  03:38\n",
      "62          63  Cape Canaveral,SLC‑40                  Starlink:Group 6-17(22satellites)   ~16,100 kg                    LEO                                 SpaceX        Success              F9          Success (   20 September 2023  03:38\n",
      "63          64  Cape Canaveral,SLC‑40                  Starlink:Group 6-18(22satellites)   ~16,100 kg                    LEO                                 SpaceX        Success              F9          Success (   24 September 2023  03:38\n",
      "64          65      Vandenberg,SLC‑4E                   Starlink:Group 7-3(21satellites)   ~15,300 kg                    LEO                                 SpaceX        Success              F9          Success (   25 September 2023  08:48\n",
      "65          66  Cape Canaveral,SLC‑40                  Starlink:Group 6-19(22satellites)   ~16,100 kg                    LEO                                 SpaceX        Success              F9          Success (   30 September 2023  02:00\n",
      "66          67  Cape Canaveral,SLC‑40                  Starlink:Group 6-21(22satellites)   ~16,100 kg                    LEO                                 SpaceX        Success              F9          Success (      5 October 2023  05:36\n",
      "67          68      Vandenberg,SLC‑4E                   Starlink:Group 7-4(21satellites)   ~15,300 kg                    LEO                                 SpaceX        Success              F9          Success (      9 October 2023  07:23\n",
      "68          69  Cape Canaveral,SLC‑40                  Starlink:Group 6-22(22satellites)   ~16,100 kg                    LEO                                 SpaceX        Success              F9          Success (     13 October 2023  23:01\n",
      "69          70  Cape Canaveral,SLC‑40                  Starlink:Group 6-23(22satellites)   ~16,100 kg                    LEO                                 SpaceX        Success              F9          Success (     18 October 2023  00:39\n",
      "70          71      Vandenberg,SLC‑4E                   Starlink:Group 7-5(21satellites)   ~15,300 kg                    LEO                                 SpaceX        Success              F9          Success (     21 October 2023  08:23\n",
      "71          72  Cape Canaveral,SLC‑40                  Starlink:Group 6-24(23satellites)   ~16,800 kg                    LEO                                 SpaceX        Success              F9          Success (     22 October 2023  02:17\n",
      "72          73      Vandenberg,SLC‑4E                   Starlink:Group 7-6(22satellites)   ~16,100 kg                    LEO                                 SpaceX        Success              F9          Success (     29 October 2023  09:00\n",
      "73          74  Cape Canaveral,SLC‑40                  Starlink:Group 6-25(23satellites)   ~16,800 kg                    LEO                                 SpaceX        Success              F9          Success (     30 October 2023  23:20\n",
      "74          75  Cape Canaveral,SLC‑40                  Starlink:Group 6-26(23satellites)   ~16,800 kg                    LEO                                 SpaceX        Success              F9          Success (     4 November 2023  00:37\n",
      "75          76  Cape Canaveral,SLC‑40                  Starlink:Group 6-27(23satellites)   ~16,800 kg                    LEO                                 SpaceX        Success              F9          Success (     8 November 2023  05:05\n",
      "76          77         Kennedy,LC‑39A                       SpaceX CRS-29(Dragon C211.2)    ~9,525 kg               LEO(ISS)                              NASA(CRS)        Success              F9          Success (    10 November 2023  01:28\n",
      "77          78      Vandenberg,SLC‑4E      Transporter-9(113 payload smallsat rideshare)         0 kg                    SSO                                Various        Success              F9          Success (    11 November 2023  18:49\n",
      "78          79  Cape Canaveral,SLC‑40                                    O3b mPOWER5 & 6    ~4,100 kg                    MEO                                    SES        Success              F9          Success (    12 November 2023  21:08\n",
      "79          80  Cape Canaveral,SLC‑40                  Starlink:Group 6-28(23satellites)   ~16,800 kg                    LEO                                 SpaceX        Success              F9          Success (    18 November 2023  05:05\n",
      "80          81      Vandenberg,SLC‑4E                   Starlink:Group 7-7(22satellites)   ~16,100 kg                    LEO                                 SpaceX        Success              F9          Success (    20 November 2023  10:30\n",
      "81          82  Cape Canaveral,SLC‑40                  Starlink:Group 6-29(23satellites)   ~16,800 kg                    LEO                                 SpaceX        Success              F9          Success (    22 November 2023  07:47\n",
      "82          83  Cape Canaveral,SLC‑40                  Starlink:Group 6-30(23satellites)   ~16,800 kg                    LEO                                 SpaceX        Success              F9          Success (    28 November 2023  04:20\n",
      "83          84      Vandenberg,SLC‑4E  425 Project SAR satellite[197][198]EIRSAT-1and...      ~800 kg                    SSO         Republic of Korea Armed Forces        Success              F9          Success (     1 December 2023  18:19\n",
      "84          85  Cape Canaveral,SLC‑40                  Starlink:Group 6-31(23satellites)   ~16,800 kg                    LEO                                 SpaceX        Success              F9          Success (     3 December 2023  04:00\n",
      "85          86  Cape Canaveral,SLC‑40                  Starlink:Group 6-33(23satellites)   ~16,800 kg                    LEO                                 SpaceX        Success              F9          Success (     7 December 2023  05:07\n",
      "86          87      Vandenberg,SLC‑4E                   Starlink:Group 7-8(22satellites)   ~16,100 kg                    LEO                                 SpaceX        Success              F9          Success (     8 December 2023  08:03\n",
      "87          88  Cape Canaveral,SLC‑40                  Starlink:Group 6-34(23satellites)   ~16,800 kg                    LEO                                 SpaceX        Success              F9          Success (    19 December 2023  04:01\n",
      "88          89  Cape Canaveral,SLC‑40                  Starlink:Group 6-32(23satellites)   ~16,800 kg                    LEO                                 SpaceX        Success              F9  Partial failure (    23 December 2023  05:33\n",
      "89          90      Vandenberg,SLC‑4E                                    SARah2 & 3[211]    ~3,600 kg                    SSO            German Intelligence Service        Success              F9          Success (    24 December 2023  13:11\n",
      "90          91  Cape Canaveral,SLC‑40                  Starlink:Group 6-36(23satellites)   ~16,800 kg                    LEO                                 SpaceX        Success              F9          Success (    29 December 2023  04:01\n",
      "91          92      Vandenberg,SLC‑4E                  Starlink:Group 7-9(22 satellites)   ~16,800 kg                    LEO                                 SpaceX        Success              F9          Success (      3 January 2024  03:44\n",
      "92          93  Cape Canaveral,SLC‑40                                            Ovzon-3     1,800 kg                    GTO                                  Ovzon        Success              F9          Success (      3 January 2024  23:04\n",
      "93          94  Cape Canaveral,SLC‑40                  Starlink:Group 6-35(23satellites)   ~17,100 kg                    LEO                                 SpaceX        Success              F9          Success (      7 January 2024  22:35\n",
      "94          95      Vandenberg,SLC‑4E                  Starlink:Group 7-10(22satellites)   ~16,700 kg                    LEO                                 SpaceX        Success              F9          Success (     14 January 2024  08:59\n",
      "95          96  Cape Canaveral,SLC‑40                  Starlink:Group 6-37(23satellites)   ~17,100 kg                    LEO                                 SpaceX        Success              F9          Success (     15 January 2024  01:52\n",
      "96          97         Kennedy,LC‑39A                    Ax-3(Crew Dragon C212.3Freedom)   ~13,000 kg               LEO(ISS)                            Axiom Space        Success              F9          Success (     18 January 2024  21:49\n",
      "97          98      Vandenberg,SLC‑4E                  Starlink:Group 7-11(22satellites)   ~16,700 kg                    LEO                                 SpaceX        Success              F9          Success (     24 January 2024  00:35\n",
      "98          99         Kennedy,LC‑39A                  Starlink:Group 6-38(23satellites)   ~17,100 kg                    LEO                                 SpaceX        Success              F9          Success (     29 January 2024  01:10\n",
      "99         100      Vandenberg,SLC‑4E                  Starlink:Group 7-12(22satellites)   ~16,700 kg                    LEO                                 SpaceX        Success              F9          Success (     29 January 2024  05:57\n",
      "100        101  Cape Canaveral,SLC‑40                                          CRS NG-20     3,726 kg               LEO(ISS)                  Northrop Grumman(CRS)        Success              F9          Success (     30 January 2024  17:07\n",
      "101        102  Cape Canaveral,SLC‑40                                               PACE     1,694 kg                    SSO                              NASA(LSP)        Success              F9          Success (     8 February 2024  06:33\n",
      "102        103      Vandenberg,SLC‑4E                  Starlink:Group 7-13(22satellites)   ~16,700 kg                    LEO                                 SpaceX        Success              F9          Success (    10 February 2024  00:34\n",
      "103        104  Cape Canaveral,SLC‑40                             USSF-124 (6satellites)         0 kg                    LEO                               USSF/SDA        Success              F9          Success (    14 February 2024  22:30\n",
      "104        105         Kennedy,LC‑39A                           IM-1Nova-COdysseuslander     1,931 kg                    TLI         NASA(CLPS) /Intuitive Machines        Success              F9          Success (    15 February 2024  06:05\n",
      "105        106      Vandenberg,SLC‑4E                  Starlink:Group 7-14(22satellites)   ~16,700 kg                    LEO                                 SpaceX        Success              F9          Success (    15 February 2024  21:34\n",
      "106        107  Cape Canaveral,SLC‑40                                Telkomsat HTS 113BT     4,000 kg                    GTO                       Telkom Indonesia        Success              F9          Success (    20 February 2024  20:11\n",
      "107        108      Vandenberg,SLC‑4E                  Starlink:Group 7-15(22satellites)   ~16,700 kg                    LEO                                 SpaceX        Success              F9          Success (    23 February 2024  04:11\n",
      "108        109  Cape Canaveral,SLC‑40                  Starlink:Group 6-39(24satellites)   ~17,500 kg                    LEO                                 SpaceX        Success              F9          Success (    25 February 2024  22:06\n",
      "109        110  Cape Canaveral,SLC‑40                  Starlink:Group 6-40(23satellites)   ~17,100 kg                    LEO                                 SpaceX        Success              F9          Success (    29 February 2024  15:30\n",
      "110        111         Kennedy,LC‑39A                Crew-8(Crew Dragon C206.5Endeavour)   ~13,000 kg               LEO(ISS)                              NASA(CTS)        Success              F9          Success (        4 March 2024  03:53\n",
      "111        112      Vandenberg,SLC‑4E      Transporter-10(53 payload smallsat rideshare)         0 kg                    SSO                                Various        Success              F9          Success (        4 March 2024  22:05\n",
      "112        113  Cape Canaveral,SLC‑40                  Starlink:Group 6-41(23satellites)   ~17,100 kg                    LEO                                 SpaceX        Success              F9          Success (        4 March 2024  23:56\n",
      "113        114  Cape Canaveral,SLC‑40                  Starlink:Group 6-43(23satellites)   ~17,100 kg                    LEO                                 SpaceX        Success              F9          Success (       10 March 2024  23:05\n",
      "114        115      Vandenberg,SLC‑4E                  Starlink:Group 7-17(23satellites)   ~17,100 kg                    LEO                                 SpaceX        Success              F9          Success (       11 March 2024  04:09\n",
      "115        116         Kennedy,LC‑39A                  Starlink:Group 6-44(23satellites)   ~17,100 kg                    LEO                                 SpaceX        Success              F9          Success (       16 March 2024  00:21\n",
      "116        117      Vandenberg,SLC‑4E  Starlink:Group 7-16(20satellites) + 2Starshiel...   ~16,300 kg                    LEO                                 SpaceX        Success              F9          Success (       19 March 2024  02:28\n",
      "117        118  Cape Canaveral,SLC‑40                       SpaceX CRS-30(Dragon C209.4)     2,721 kg               LEO(ISS)                              NASA(CRS)        Success              F9          Success (       21 March 2024  20:55\n",
      "118        119         Kennedy,LC‑39A                  Starlink:Group 6-42(23satellites)   ~17,100 kg                    LEO                                 SpaceX        Success              F9          Success (       24 March 2024  03:09\n",
      "119        120  Cape Canaveral,SLC‑40                  Starlink:Group 6-46(23satellites)   ~17,100 kg                    LEO                                 SpaceX        Success              F9          Success (       25 March 2024  23:42\n",
      "120        121         Kennedy,LC‑39A                                       Eutelsat 36D     5,000 kg                    GTO                               Eutelsat        Success              F9          Success (       30 March 2024  21:52\n",
      "121        122  Cape Canaveral,SLC‑40                  Starlink:Group 6-45(23satellites)   ~17,100 kg                    LEO                                 SpaceX        Success              F9          Success (       31 March 2024  01:30\n",
      "122        123      Vandenberg,SLC‑4E                  Starlink:Group 7-18(22satellites)   ~16,700 kg                    LEO                                 SpaceX        Success              F9          Success (        2 April 2024  02:30\n",
      "123        124  Cape Canaveral,SLC‑40                  Starlink:Group 6-47(23satellites)   ~17,100 kg                    LEO                                 SpaceX        Success              F9          Success (        5 April 2024  09:12\n",
      "124        125      Vandenberg,SLC‑4E                   Starlink:Group 8-1(21satellites)   ~16,800 kg                    LEO                                 SpaceX        Success              F9          Success (        7 April 2024  02:25\n",
      "125        126         Kennedy,LC‑39A         Bandwagon-1(11 payload smallsat rideshare)         0 kg                    LEO                                Various        Success              F9          Success (        7 April 2024  23:16\n",
      "126        127  Cape Canaveral,SLC‑40                  Starlink:Group 6-48(23satellites)   ~17,100 kg                    LEO                                 SpaceX        Success              F9          Success (       10 April 2024  05:40\n",
      "127        128      Vandenberg,SLC‑4E                                  USSF-62 (WSF-M 1)     1,200 kg                    SSO                                   USSF        Success              F9          Success (       11 April 2024  14:25\n",
      "128        129  Cape Canaveral,SLC‑40                  Starlink:Group 6-49(23satellites)   ~17,100 kg                    LEO                                 SpaceX        Success              F9          Success (       13 April 2024  01:40\n",
      "129        130         Kennedy,LC‑39A                  Starlink:Group 6-51(23satellites)   ~17,100 kg                    LEO                                 SpaceX        Success              F9          Success (       17 April 2024  21:26\n",
      "130        131  Cape Canaveral,SLC‑40                  Starlink:Group 6-52(23satellites)   ~17,100 kg                    LEO                                 SpaceX        Success              F9          Success (       18 April 2024  22:40\n",
      "131        132  Cape Canaveral,SLC‑40                  Starlink:Group 6-53(23satellites)   ~17,100 kg                    LEO                                 SpaceX        Success              F9          Success (       23 April 2024  22:17\n",
      "132        133         Kennedy,LC‑39A                      Galileo-L12 (FOC FM25 & FM27)     1,600 kg                    MEO                                    ESA        Success              F9         No attempt       28 April 2024  00:34\n",
      "133        134  Cape Canaveral,SLC‑40                  Starlink:Group 6-54(23satellites)   ~17,100 kg                    LEO                                 SpaceX        Success              F9          Success (       28 April 2024  22:08\n",
      "134        135      Vandenberg,SLC‑4E                              WorldView Legion1 & 2     1,500 kg                    SSO                     Maxar Technologies        Success              F9          Success (          2 May 2024  18:36\n",
      "135        136  Cape Canaveral,SLC‑40                  Starlink:Group 6-55(23satellites)   ~17,100 kg                    LEO                                 SpaceX        Success              F9          Success (          3 May 2024  02:37\n",
      "136        137  Cape Canaveral,SLC‑40                  Starlink:Group 6-57(23satellites)   ~17,100 kg                    LEO                                 SpaceX        Success              F9          Success (          6 May 2024  18:14\n",
      "137        138         Kennedy,LC‑39A                  Starlink:Group 6-56(23satellites)   ~17,100 kg                    LEO                                 SpaceX        Success              F9          Success (          8 May 2024  18:42\n",
      "138        139      Vandenberg,SLC‑4E                   Starlink:Group 8-2(20satellites)   ~16,300 kg                    LEO                                 SpaceX        Success              F9          Success (         10 May 2024  04:30\n",
      "139        140  Cape Canaveral,SLC‑40                  Starlink:Group 6-58(23satellites)   ~17,100 kg                    LEO                                 SpaceX        Success              F9          Success (         13 May 2024  00:53\n",
      "140        141      Vandenberg,SLC‑4E                   Starlink:Group 8-7(20satellites)   ~16,300 kg                    LEO                                 SpaceX        Success              F9          Success (         14 May 2024  18:39\n",
      "141        142  Cape Canaveral,SLC‑40                  Starlink:Group 6-59(23satellites)   ~17,100 kg                    LEO                                 SpaceX        Success              F9          Success (         18 May 2024  00:32\n",
      "142        143      Vandenberg,SLC‑4E                  NROL-146 (21Starshieldsatellites)         0 kg                    SSO                   Northrop Grumman/NRO        Success              F9          Success (         22 May 2024  08:00\n",
      "143        144  Cape Canaveral,SLC‑40                  Starlink:Group 6-62(23satellites)   ~17,100 kg                    LEO                                 SpaceX        Success              F9          Success (         23 May 2024  02:35\n",
      "144        145         Kennedy,LC‑39A                  Starlink:Group 6-63(23satellites)   ~17,100 kg                    LEO                                 SpaceX        Success              F9          Success (         24 May 2024  02:45\n",
      "145        146  Cape Canaveral,SLC‑40                  Starlink:Group 6-60(23satellites)   ~17,100 kg                    LEO                                 SpaceX        Success              F9          Success (         28 May 2024  14:24\n",
      "146        147      Vandenberg,SLC‑4E                                          EarthCARE     2,350 kg                    SSO                                    ESA        Success              F9          Success (         28 May 2024  22:20\n",
      "147        148  Cape Canaveral,SLC‑40                  Starlink:Group 6-64(23satellites)   ~17,100 kg                    LEO                                 SpaceX        Success              F9          Success (         1 June 2024  02:37\n",
      "148        149  Cape Canaveral,SLC‑40                   Starlink:Group 8-5(23satellites)   ~16,300 kg                    LEO                                 SpaceX        Success              F9          Success (         5 June 2024  02:16\n",
      "149        150  Cape Canaveral,SLC‑40                  Starlink:Group 10-1(22satellites)   ~16,700 kg                    LEO                                 SpaceX        Success              F9          Success (         8 June 2024  01:56\n",
      "150        151      Vandenberg,SLC‑4E                   Starlink:Group 8-8(20satellites)   ~16,300 kg                    LEO                                 SpaceX        Success              F9          Success (         8 June 2024  12:58\n",
      "151        152      Vandenberg,SLC‑4E                   Starlink:Group 9-1(20satellites)   ~16,300 kg                    LEO                                 SpaceX        Success              F9          Success (        19 June 2024  03:40\n",
      "152        153  Cape Canaveral,SLC‑40                                           Astra 1P     5,000 kg                    GTO                                    SES        Success              F9          Success (        20 June 2024  21:35\n",
      "153        154  Cape Canaveral,SLC‑40                  Starlink:Group 10-2(22satellites)   ~16,700 kg                    LEO                                 SpaceX        Success              F9          Success (        23 June 2024  17:15\n",
      "154        155      Vandenberg,SLC‑4E                   Starlink:Group 9-2(20satellites)   ~16,300 kg                    LEO                                 SpaceX        Success              F9          Success (        24 June 2024  03:47\n",
      "155        156  Cape Canaveral,SLC‑40                  Starlink:Group 10-3(23satellites)   ~17,100 kg                    LEO                                 SpaceX        Success              F9          Success (        27 June 2024  11:14\n",
      "156        157      Vandenberg,SLC‑4E                 NROL-186 (~21Starshieldsatellites)         0 kg                    SSO                                    NRO        Success              F9          Success (        29 June 2024  03:14\n",
      "157        158  Cape Canaveral,SLC‑40                   Starlink:Group 8-9(20satellites)   ~16,300 kg                    LEO                                 SpaceX        Success              F9          Success (         3 July 2024  08:55\n",
      "158        159  Cape Canaveral,SLC‑40                                         Türksat 6A     4,250 kg                    GTO                                Türksat        Success              F9          Success (         8 July 2024  23:30\n",
      "159        160      Vandenberg,SLC‑4E                   Starlink:Group 9-3(20satellites)   ~16,300 kg                    LEO                                 SpaceX        Failure              F9          Success (        12 July 2024  02:35\n",
      "160        161         Kennedy,LC‑39A                  Starlink:Group 10-9(23satellites)   ~17,100 kg                    LEO                                 SpaceX        Success              F9          Success (        27 July 2024  05:45\n",
      "161        162  Cape Canaveral,SLC‑40                  Starlink:Group 10-4(23satellites)   ~17,100 kg                    LEO                                 SpaceX        Success              F9          Success (        28 July 2024  05:09\n",
      "162        163      Vandenberg,SLC‑4E                   Starlink:Group 9-4(21satellites)   ~16,500 kg                    LEO                                 SpaceX        Success              F9          Success (        28 July 2024  09:22\n",
      "163        164         Kennedy,LC‑39A                  Starlink:Group 10-6(23satellites)   ~17,100 kg                    LEO                                 SpaceX        Success              F9          Success (       2 August 2024  05:01\n",
      "164        165      Vandenberg,SLC‑4E                  Starlink:Group 11-1(23satellites)   ~17,100 kg                    LEO                                 SpaceX        Success              F9          Success (       4 August 2024  07:24\n",
      "165        166  Cape Canaveral,SLC‑40                                          CRS NG-21     3,857 kg               LEO(ISS)                  Northrop Grumman(CRS)        Success              F9          Success (       4 August 2024  15:02\n",
      "166        167  Cape Canaveral,SLC‑40                   Starlink:Group 8-3(21satellites)   ~16,500 kg                    LEO                                 SpaceX        Success              F9          Success (      10 August 2024  12:50\n",
      "167        168      Vandenberg,SLC‑4E                         ASBM1(GX10A) &ASBM2(GX10B)    ~7,230 kg                Molniya                           Space Norway        Success              F9          Success (      12 August 2024  02:02\n",
      "168        169         Kennedy,LC‑39A                  Starlink:Group 10-7(23satellites)   ~17,100 kg                    LEO                                 SpaceX        Success              F9          Success (      12 August 2024  10:37\n",
      "169        170  Cape Canaveral,SLC‑40                              WorldView Legion3 & 4     1,500 kg                    LEO                     Maxar Technologies        Success              F9          Success (      15 August 2024  13:00\n",
      "170        171      Vandenberg,SLC-4E     Transporter-11(116 payload smallsat rideshare)         0 kg                    SSO                                Various        Success              F9          Success (      16 August 2024  18:56\n",
      "171        172  Cape Canaveral,SLC‑40                 Starlink:Group 10-5(23 satellites)   ~16,700 kg                    LEO                                 SpaceX        Success              F9          Success (      20 August 2024  13:20\n",
      "172        173  Cape Canaveral,SLC‑40                  Starlink:Group 8-6(21 satellites)   ~16,700 kg                    LEO                                 SpaceX        Success              F9          Failure (      28 August 2024  07:48\n",
      "173        174  Cape Canaveral,SLC‑40                 Starlink:Group 8-10(21 satellites)   ~16,700 kg                    LEO                                 SpaceX        Success              F9          Success (      31 August 2024  07:43\n",
      "174        175      Vandenberg,SLC-4E                  Starlink:Group 9-5(21 satellites)   ~16,700 kg                    LEO                                 SpaceX        Success              F9          Success (      31 August 2024  08:48\n",
      "175        176  Cape Canaveral,SLC‑40                 Starlink:Group 8-11(21 satellites)   ~16,700 kg                    LEO                                 SpaceX        Success              F9          Success (    5 September 2024  15:33\n",
      "176        177      Vandenberg,SLC‑4E                  NROL-113 (21Starshieldsatellites)         0 kg                    LEO                                    NRO        Success              F9          Success (    6 September 2024  03:20\n",
      "177        178         Kennedy,LC‑39A         Polaris Dawn(Crew Dragon C207.3Resilience)   ~13,000 kg                    LEO                        Polaris Program        Success              F9          Success (   10 September 2024  09:23\n",
      "178        179  Cape Canaveral,SLC‑40               BlueBird Block 1 (5 satellites)[376]     7,500 kg                    LEO                        AST SpaceMobile        Success              F9          Success (   12 September 2024  08:52\n",
      "179        180      Vandenberg,SLC-4E                   Starlink:Group 9-6(21satellites)   ~16,700 kg                    LEO                                 SpaceX        Success              F9          Success (   13 September 2024  01:45\n",
      "180        181  Cape Canaveral,SLC‑40                      Galileo-L13 (FOC FM26 & FM32)     1,600 kg                    MEO                                    ESA        Success              F9          Success (   17 September 2024  22:50\n",
      "181        182      Vandenberg,SLC-4E                  Starlink:Group 9-17(20satellites)   ~16,300 kg                    LEO                                 SpaceX        Success              F9          Success (   20 September 2024  13:50\n",
      "182        183      Vandenberg,SLC-4E                   Starlink:Group 9-8(20satellites)   ~16,300 kg                    LEO                                 SpaceX        Success              F9          Success (   25 September 2024  04:01\n",
      "183        184  Cape Canaveral,SLC‑40                  Crew-9(Crew Dragon C212.4Freedom)   ~13,000 kg               LEO(ISS)                          NASA(CTS)[71]        Success              F9          Success (   28 September 2024  17:17\n",
      "184        185  Cape Canaveral,SLC‑40                                               Hera     1,108 kg           Heliocentric                                    ESA        Success              F9         No attempt      7 October 2024  14:52\n",
      "185        186  Cape Canaveral,SLC‑40                 Starlink:Group 10-10(23satellites)   ~17,100 kg                    LEO                                 SpaceX        Success              F9          Success (     15 October 2024  06:10\n",
      "186        187      Vandenberg,SLC-4E                   Starlink:Group 9-7(20satellites)   ~16,300 kg                    LEO                                 SpaceX        Success              F9          Success (     15 October 2024  08:21\n",
      "187        188  Cape Canaveral,SLC‑40                   Starlink:Group8-19(20satellites)   ~16,300 kg                    LEO                                 SpaceX        Success              F9          Success (     18 October 2024  23:31\n",
      "188        189      Vandenberg,SLC-4E                          OneWeb #20(20 satellites)     2,954 kg               PolarLEO                                 OneWeb        Success              F9          Success (     20 October 2024  05:13\n",
      "189        190  Cape Canaveral,SLC‑40                  Starlink:Group 6-61(23satellites)   ~17,100 kg                    LEO                                 SpaceX        Success              F9          Success (     23 October 2024  21:47\n",
      "190        191      Vandenberg,SLC-4E                  NROL-167(~17Starshieldsatellites)         0 kg                    LEO                                    NRO        Success              F9          Success (     24 October 2024  17:13\n",
      "191        192  Cape Canaveral,SLC‑40                  Starlink:Group 10-8(22satellites)   ~16,700 kg                    LEO                                 SpaceX        Success              F9          Success (     26 October 2024  21:47\n",
      "192        193      Vandenberg,SLC-4E                   Starlink:Group 9-9(20satellites)   ~16,300 kg                    LEO                                 SpaceX        Success              F9          Success (     30 October 2024  12:07\n",
      "193        194  Cape Canaveral,SLC‑40                Starlink:Group 10-13(23 satellites)   ~17,100 kg                    LEO                                 SpaceX        Success              F9          Success (     30 October 2024  21:10\n",
      "194        195         Kennedy,LC‑39A                 SpaceX CRS-31(Cargo Dragon C208.5)     2,762 kg               LEO(ISS)                              NASA(CRS)        Success              F9          Success (     5 November 2024  02:29\n",
      "195        196  Cape Canaveral,SLC‑40                 Starlink:Group 6-77(23 satellites)   ~17,100 kg                    LEO                                 SpaceX        Success              F9          Success (     7 November 2024  20:19\n",
      "196        197      Vandenberg,SLC-4E                  Starlink:Group 9-10(20satellites)   ~16,300 kg                    LEO                                 SpaceX        Success              F9          Success (     9 November 2024  06:14\n",
      "197        198         Kennedy,LC‑39A                                         Koreasat6A     3,900 kg                    GTO                                 KT Sat        Success              F9          Success (    11 November 2024  17:22\n",
      "198        199  Cape Canaveral,SLC‑40                  Starlink:Group 6-69(24satellites)   ~17,500 kg                    LEO                                 SpaceX        Success              F9          Success (    11 November 2024  21:28\n",
      "199        200      Vandenberg,SLC-4E                  Starlink:Group 9-11(20satellites)   ~16,300 kg                    LEO                                 SpaceX        Success              F9          Success (    14 November 2024  05:23\n",
      "200        201  Cape Canaveral,SLC‑40                 Starlink:Group 6-68(24 satellites)   ~17,500 kg                    LEO                                 SpaceX        Success              F9          Success (    14 November 2024  13:21\n",
      "201        202         Kennedy,LC‑39A                                        Optus-X/TD7    ~4,000 kg                    GTO                                  Optus        Success              F9          Success (    17 November 2024  22:28\n",
      "202        203      Vandenberg,SLC-4E                  Starlink:Group 9-12(20satellites)   ~16,300 kg                    LEO                                 SpaceX        Success              F9          Success (    18 November 2024  05:53\n",
      "203        204  Cape Canaveral,SLC‑40                                   GSAT-20(GSAT-N2)     4,700 kg                    GTO         New Space India LimitedDish TV        Success              F9          Success (    18 November 2024  18:31\n",
      "204        205  Cape Canaveral,SLC‑40                 Starlink:Group 6-66(24 satellites)   ~17,500 kg                    LEO                                 SpaceX        Success              F9          Success (    21 November 2024  16:07\n",
      "205        206      Vandenberg,SLC-4E                  Starlink:Group 9-13(20satellites)   ~16,300 kg                    LEO                                 SpaceX        Success              F9          Success (    24 November 2024  05:25\n",
      "206        207  Cape Canaveral,SLC‑40                 Starlink:Group 12-1(23 satellites)   ~17,100 kg                    LEO                                 SpaceX        Success              F9          Success (    25 November 2024  10:02\n",
      "207        208         Kennedy,LC‑39A                 Starlink:Group 6-76(24 satellites)   ~17,500 kg                    LEO                                 SpaceX        Success              F9          Success (    27 November 2024  04:41\n",
      "208        209  Cape Canaveral,SLC‑40                 Starlink:Group 6-65(24 satellites)   ~17,500 kg                    LEO                                 SpaceX        Success              F9          Success (    30 November 2024  05:00\n",
      "209        210      Vandenberg,SLC-4E  NROL-126(2Starshieldsatellites) +Starlink:Grou...   ~16,100 kg                    LEO                             NRO/SpaceX        Success              F9          Success (    30 November 2024  08:10\n",
      "210        211  Cape Canaveral,SLC‑40                  Starlink:Group 6-70(24satellites)   ~17,500 kg                    LEO                                 SpaceX        Success              F9          Success (     4 December 2024  10:13\n",
      "211        212      Vandenberg,SLC-4E                  Starlink:Group 9-14(20satellites)   ~16,300 kg                    LEO                                 SpaceX        Success              F9          Success (     5 December 2024  03:05\n",
      "212        213         Kennedy,LC‑39A                                              SXM-9     7,000 kg                    GTO                              Sirius XM        Success              F9          Success (     5 December 2024  16:10\n",
      "213        214  Cape Canaveral,SLC‑40                 Starlink:Group 12-5(23 satellites)   ~17,100 kg                    LEO                                 SpaceX        Success              F9          Success (     8 December 2024  05:12\n",
      "214        215      Vandenberg,SLC-4E                  Starlink:Group 11-2(22satellites)   ~16,700 kg                    LEO                                 SpaceX        Success              F9          Success (    13 December 2024  21:55\n",
      "215        216  Cape Canaveral,SLC‑40                        GPS III-7 (RRT-1)[439][440]    ~4,350 kg                    MEO                                   USSF        Success              F9          Success (    17 December 2024  00:52\n",
      "216        217      Vandenberg,SLC‑4E             NROL-149 (22Starshieldsatellites)[442]         0 kg                    LEO                                    NRO        Success              F9          Success (    17 December 2024  13:19\n",
      "217        218         Kennedy,LC‑39A                                    O3b mPOWER7 & 8     3,400 kg                    MEO                                    SES        Success              F9          Success (    17 December 2024  22:26\n",
      "218        219      Vandenberg,SLC-4E  Bandwagon-2(30 payload smallsat rideshare)[272...      ~800 kg                    LEO  VariousRepublic of Korea Armed Forces        Success              F9          Success (    21 December 2024  11:34\n",
      "219        220         Kennedy,LC‑39A                 Starlink:Group 12-2(21 satellites)   ~16,500 kg                    LEO                                 SpaceX        Success              F9          Success (    23 December 2024  05:35\n",
      "220        221      Vandenberg,SLC-4E                  Starlink:Group 11-3(22satellites)   ~16,700 kg                    LEO                                 SpaceX        Success              F9          Success (    29 December 2024  01:58\n",
      "221        222  Cape Canaveral,SLC‑40          Astranis: From One to Many (4 satellites)     1,600 kg                    GTO                               Astranis        Success              F9          Success (    29 December 2024  05:00\n",
      "222        223         Kennedy,LC‑39A                  Starlink:Group 12-6(21satellites)   ~16,500 kg                    LEO                                 SpaceX        Success              F9          Success (    31 December 2024  05:39\n",
      "223        224  Cape Canaveral,SLC‑40                                      Thuraya 4-NGS     5,000 kg                    GTO                                Thuraya        Success              F9          Success (      4 January 2025  01:27\n",
      "224        225  Cape Canaveral,SLC‑40                  Starlink:Group 6‑71(24satellites)   ~17,500 kg                    LEO                                 SpaceX        Success              F9          Success (      6 January 2025  20:43\n",
      "225        226         Kennedy,LC‑39A                Starlink:Group 12-11(21 satellites)   ~16,500 kg                    LEO                                 SpaceX        Success              F9          Success (      8 January 2025  15:27\n",
      "226        227      Vandenberg,SLC‑4E                 NROL-153 (~21Starshieldsatellites)         0 kg                    LEO                                    NRO        Success              F9          Success (     10 January 2025  03:53\n",
      "227        228  Cape Canaveral,SLC‑40                Starlink:Group 12-12(21 satellites)   ~16,500 kg                    LEO                                 SpaceX        Success              F9          Success (     10 January 2025  19:11\n",
      "228        229  Cape Canaveral,SLC‑40                 Starlink:Group 12-4(21 satellites)   ~16,500 kg                    LEO                                 SpaceX        Success              F9          Success (     13 January 2025  16:47\n",
      "229        230      Vandenberg,SLC‑4E     Transporter-12(131 payload smallsat rideshare)         0 kg                    SSO                                Various        Success              F9          Success (     14 January 2025  19:09\n",
      "230        231         Kennedy,LC‑39A                               Blue Ghost Mission 1     2,517 kg                    TLI         Firefly Aerospace& NASA (CLPS)        Success              F9          Success (     15 January 2025  06:11\n"
     ]
    }
   ],
   "source": [
    "#df.to_csv('IBM Data Certificate/Course11_Applied_Data_Science_Capstone/spacex_web_scraped.csv',index=False)\n",
    "#print(df)"
   ]
  }
 ],
 "metadata": {
  "kernelspec": {
   "display_name": "MOB",
   "language": "python",
   "name": "python3"
  },
  "language_info": {
   "codemirror_mode": {
    "name": "ipython",
    "version": 3
   },
   "file_extension": ".py",
   "mimetype": "text/x-python",
   "name": "python",
   "nbconvert_exporter": "python",
   "pygments_lexer": "ipython3",
   "version": "3.12.2"
  }
 },
 "nbformat": 4,
 "nbformat_minor": 2
}
